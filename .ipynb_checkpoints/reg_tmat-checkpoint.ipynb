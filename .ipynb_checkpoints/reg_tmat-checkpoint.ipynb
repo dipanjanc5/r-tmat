{
 "cells": [
  {
   "cell_type": "markdown",
   "metadata": {
    "collapsed": false
   },
   "source": [
    "# Regularization of transition matrices"
   ]
  },
  {
   "cell_type": "code",
   "execution_count": 1,
   "metadata": {
    "collapsed": true
   },
   "outputs": [],
   "source": [
    "# Load libraries\n",
    "\n",
    "import numpy as np, pandas as pd\n",
    "import seaborn as sns\n",
    "from matplotlib import pyplot as plt\n",
    "from scipy import linalg\n",
    "%matplotlib inline"
   ]
  },
  {
   "cell_type": "code",
   "execution_count": 3,
   "metadata": {
    "collapsed": true
   },
   "outputs": [],
   "source": [
    "#Define to_df function for better visualization of matrices\n",
    "def to_df(mat):\n",
    "    return pd.DataFrame(mat, columns=tmat.columns, index=tmat.index)"
   ]
  },
  {
   "cell_type": "markdown",
   "metadata": {},
   "source": [
    "Read Moody's empirical transition matrix data."
   ]
  },
  {
   "cell_type": "code",
   "execution_count": 5,
   "metadata": {
    "collapsed": false
   },
   "outputs": [
    {
     "name": "stdout",
     "output_type": "stream",
     "text": [
      "        Aaa      Aa       A     Baa      Ba       B       C       D\n",
      "Aaa  0.8973  0.0976  0.0048  0.0000  0.0003  0.0000  0.0000  0.0000\n",
      "Aa   0.0092  0.8887  0.0964  0.0036  0.0015  0.0002  0.0000  0.0004\n",
      "A    0.0008  0.0224  0.9059  0.0609  0.0077  0.0021  0.0000  0.0002\n",
      "Baa  0.0008  0.0037  0.0602  0.8545  0.0648  0.0130  0.0011  0.0019\n",
      "Ba   0.0003  0.0008  0.0046  0.0402  0.8566  0.0788  0.0047  0.0140\n",
      "B    0.0001  0.0004  0.0016  0.0053  0.0586  0.8406  0.0274  0.0660\n",
      "C    0.0000  0.0000  0.0000  0.0100  0.0279  0.0538  0.6548  0.2535\n",
      "D    0.0000  0.0000  0.0000  0.0000  0.0000  0.0000  0.0000  1.0000\n",
      "Aaa    1.0\n",
      "Aa     1.0\n",
      "A      1.0\n",
      "Baa    1.0\n",
      "Ba     1.0\n",
      "B      1.0\n",
      "C      1.0\n",
      "D      1.0\n",
      "dtype: float64\n"
     ]
    }
   ],
   "source": [
    "tmat = pd.read_csv('tmat_1y.csv', index_col=0).astype(float)\n",
    "print (to_df(tmat))\n",
    "print (tmat.sum(axis=1))\n",
    "mtmat = np.matrix(tmat)"
   ]
  },
  {
   "cell_type": "code",
   "execution_count": 6,
   "metadata": {
    "collapsed": false
   },
   "outputs": [
    {
     "name": "stdout",
     "output_type": "stream",
     "text": [
      "          Aaa        Aa         A       Baa        Ba         B         C  \\\n",
      "Aaa  0.806049  0.174421  0.018065  0.000656  0.000710  0.000053  0.000001   \n",
      "Aa   0.016512  0.792860  0.173268  0.012208  0.003608  0.000713  0.000016   \n",
      "A    0.001700  0.040509  0.826523  0.107610  0.017674  0.005071  0.000161   \n",
      "Baa  0.001504  0.007933  0.106655  0.736535  0.112141  0.027329  0.002321   \n",
      "Ba   0.000577  0.001709  0.010732  0.069534  0.741154  0.134525  0.009307   \n",
      "B    0.000201  0.000804  0.003422  0.011713  0.100577  0.712773  0.041255   \n",
      "C    0.000022  0.000081  0.000816  0.016500  0.045969  0.082781  0.430379   \n",
      "D    0.000000  0.000000  0.000000  0.000000  0.000000  0.000000  0.000000   \n",
      "\n",
      "            D  \n",
      "Aaa  0.000044  \n",
      "Aa   0.000816  \n",
      "A    0.000752  \n",
      "Baa  0.005581  \n",
      "Ba   0.032462  \n",
      "B    0.129256  \n",
      "C    0.423452  \n",
      "D    1.000000   \n",
      "\n",
      "Aaa    1.0\n",
      "Aa     1.0\n",
      "A      1.0\n",
      "Baa    1.0\n",
      "Ba     1.0\n",
      "B      1.0\n",
      "C      1.0\n",
      "D      1.0\n",
      "dtype: float64\n"
     ]
    }
   ],
   "source": [
    "mtmat = np.matrix(tmat)\n",
    "mtmat2 = mtmat**2 # square of matrix = 2year transition matrix\n",
    "print (to_df(mtmat2), '\\n')\n",
    "print (to_df(mtmat2).sum(axis=1))"
   ]
  },
  {
   "cell_type": "markdown",
   "metadata": {
    "collapsed": false
   },
   "source": [
    "In a markovian world, the nth power of the matrix represents a n year transition matrix. What happens when n is a fraction. Fractional powers of matrices are not defined.\n",
    "We can make use of eigenvalues and eignevectors to define fractional power of a square matrix."
   ]
  },
  {
   "cell_type": "code",
   "execution_count": 11,
   "metadata": {
    "collapsed": true
   },
   "outputs": [],
   "source": [
    "# First lets define some ueful functions\n",
    "def eigmult(val, vec):\n",
    "    return np.matrix(vec)*np.diag(val)*(np.matrix(vec)**-1)\n",
    "def mat_power(A, n):\n",
    "    val, vec = linalg.eig(A)\n",
    "    return eigmult(val**n, vec)\n",
    "def markov_mat_power(G,n):\n",
    "    return np.maximum(np.array(linalg.expm(G*n)), 0)"
   ]
  },
  {
   "cell_type": "code",
   "execution_count": 8,
   "metadata": {
    "collapsed": false
   },
   "outputs": [
    {
     "data": {
      "text/html": [
       "<div>\n",
       "<style scoped>\n",
       "    .dataframe tbody tr th:only-of-type {\n",
       "        vertical-align: middle;\n",
       "    }\n",
       "\n",
       "    .dataframe tbody tr th {\n",
       "        vertical-align: top;\n",
       "    }\n",
       "\n",
       "    .dataframe thead th {\n",
       "        text-align: right;\n",
       "    }\n",
       "</style>\n",
       "<table border=\"1\" class=\"dataframe\">\n",
       "  <thead>\n",
       "    <tr style=\"text-align: right;\">\n",
       "      <th></th>\n",
       "      <th>Aaa</th>\n",
       "      <th>Aa</th>\n",
       "      <th>A</th>\n",
       "      <th>Baa</th>\n",
       "      <th>Ba</th>\n",
       "      <th>B</th>\n",
       "      <th>C</th>\n",
       "      <th>D</th>\n",
       "    </tr>\n",
       "  </thead>\n",
       "  <tbody>\n",
       "    <tr>\n",
       "      <th>Aaa</th>\n",
       "      <td>0.947127</td>\n",
       "      <td>0.051650</td>\n",
       "      <td>0.001145</td>\n",
       "      <td>-0.000050</td>\n",
       "      <td>0.000140</td>\n",
       "      <td>-0.000005</td>\n",
       "      <td>-7.323853e-08</td>\n",
       "      <td>-0.000006</td>\n",
       "    </tr>\n",
       "    <tr>\n",
       "      <th>Aa</th>\n",
       "      <td>0.004859</td>\n",
       "      <td>0.942256</td>\n",
       "      <td>0.050898</td>\n",
       "      <td>0.001037</td>\n",
       "      <td>0.000688</td>\n",
       "      <td>0.000063</td>\n",
       "      <td>-1.128167e-06</td>\n",
       "      <td>0.000201</td>\n",
       "    </tr>\n",
       "    <tr>\n",
       "      <th>A</th>\n",
       "      <td>0.000384</td>\n",
       "      <td>0.011790</td>\n",
       "      <td>0.950922</td>\n",
       "      <td>0.032444</td>\n",
       "      <td>0.003482</td>\n",
       "      <td>0.000937</td>\n",
       "      <td>-2.281224e-05</td>\n",
       "      <td>0.000064</td>\n",
       "    </tr>\n",
       "    <tr>\n",
       "      <th>Baa</th>\n",
       "      <td>0.000414</td>\n",
       "      <td>0.001761</td>\n",
       "      <td>0.032029</td>\n",
       "      <td>0.923410</td>\n",
       "      <td>0.034897</td>\n",
       "      <td>0.006233</td>\n",
       "      <td>5.317913e-04</td>\n",
       "      <td>0.000725</td>\n",
       "    </tr>\n",
       "    <tr>\n",
       "      <th>Ba</th>\n",
       "      <td>0.000153</td>\n",
       "      <td>0.000386</td>\n",
       "      <td>0.002055</td>\n",
       "      <td>0.021656</td>\n",
       "      <td>0.924364</td>\n",
       "      <td>0.042708</td>\n",
       "      <td>2.314675e-03</td>\n",
       "      <td>0.006362</td>\n",
       "    </tr>\n",
       "    <tr>\n",
       "      <th>B</th>\n",
       "      <td>0.000050</td>\n",
       "      <td>0.000200</td>\n",
       "      <td>0.000776</td>\n",
       "      <td>0.002447</td>\n",
       "      <td>0.031664</td>\n",
       "      <td>0.915830</td>\n",
       "      <td>1.584357e-02</td>\n",
       "      <td>0.033190</td>\n",
       "    </tr>\n",
       "    <tr>\n",
       "      <th>C</th>\n",
       "      <td>-0.000003</td>\n",
       "      <td>-0.000012</td>\n",
       "      <td>-0.000132</td>\n",
       "      <td>0.005539</td>\n",
       "      <td>0.015423</td>\n",
       "      <td>0.030792</td>\n",
       "      <td>8.088717e-01</td>\n",
       "      <td>0.139521</td>\n",
       "    </tr>\n",
       "    <tr>\n",
       "      <th>D</th>\n",
       "      <td>0.000000</td>\n",
       "      <td>0.000000</td>\n",
       "      <td>0.000000</td>\n",
       "      <td>0.000000</td>\n",
       "      <td>0.000000</td>\n",
       "      <td>0.000000</td>\n",
       "      <td>0.000000e+00</td>\n",
       "      <td>1.000000</td>\n",
       "    </tr>\n",
       "  </tbody>\n",
       "</table>\n",
       "</div>"
      ],
      "text/plain": [
       "          Aaa        Aa         A       Baa        Ba         B             C  \\\n",
       "Aaa  0.947127  0.051650  0.001145 -0.000050  0.000140 -0.000005 -7.323853e-08   \n",
       "Aa   0.004859  0.942256  0.050898  0.001037  0.000688  0.000063 -1.128167e-06   \n",
       "A    0.000384  0.011790  0.950922  0.032444  0.003482  0.000937 -2.281224e-05   \n",
       "Baa  0.000414  0.001761  0.032029  0.923410  0.034897  0.006233  5.317913e-04   \n",
       "Ba   0.000153  0.000386  0.002055  0.021656  0.924364  0.042708  2.314675e-03   \n",
       "B    0.000050  0.000200  0.000776  0.002447  0.031664  0.915830  1.584357e-02   \n",
       "C   -0.000003 -0.000012 -0.000132  0.005539  0.015423  0.030792  8.088717e-01   \n",
       "D    0.000000  0.000000  0.000000  0.000000  0.000000  0.000000  0.000000e+00   \n",
       "\n",
       "            D  \n",
       "Aaa -0.000006  \n",
       "Aa   0.000201  \n",
       "A    0.000064  \n",
       "Baa  0.000725  \n",
       "Ba   0.006362  \n",
       "B    0.033190  \n",
       "C    0.139521  \n",
       "D    1.000000  "
      ]
     },
     "execution_count": 8,
     "metadata": {},
     "output_type": "execute_result"
    }
   ],
   "source": [
    "eigval, eigvec = linalg.eig(mtmat)\n",
    "frac_mtmat = linalg.fractional_matrix_power(mtmat, 1/2)\n",
    "to_df(frac_mtmat)"
   ]
  },
  {
   "cell_type": "markdown",
   "metadata": {
    "collapsed": false
   },
   "source": [
    "Negative values in the transition matrix means this is not a valid transition matrix. Probabilities cannot be negative. Infact whether valid fractional transition matrix exists for any given empirical transition matrix has been studied a lot. \n",
    "\n",
    "The problem is called the embeddability problem. Under what conditions can a discrete-time Markov process be said to have a continuous-time Markovian skeleton? Under what conditions is the solution unique. The answer to the question of embeddability of a matrix can be found in the logarithm of the matrix which is called the generator matrix. Israel, Rosenthal and Wei summarise the work done on this problem since Elfving's first paper in 1937, laying down the conditions for a valid generator matrix to exist, and otherwise also describing useful algorithms to find good approximations in their study\n",
    "http://citeseerx.ist.psu.edu/viewdoc/download?doi=10.1.1.67.242&rep=rep1&type=pdf"
   ]
  },
  {
   "cell_type": "markdown",
   "metadata": {},
   "source": [
    "### Approximation of generator matrices\n",
    "Regularization Algorithms for Transition Matrices \n",
    "Alexander Kreinin and Marina Sidelnikova\n",
    "http://citeseerx.ist.psu.edu/viewdoc/download?doi=10.1.1.164.305&rep=rep1&type=pdf"
   ]
  },
  {
   "cell_type": "code",
   "execution_count": 9,
   "metadata": {
    "collapsed": true
   },
   "outputs": [],
   "source": [
    "# Define cost functions for evaluating performance of approximation algorithms.\n",
    "def abs_deviation(A, B):\n",
    "    return abs(A - B)\n",
    "def MAX(A, B):\n",
    "    return abs_deviation(A, B).max()\n",
    "def MAD(A, B):\n",
    "    return abs_deviation(A, B).mean()\n",
    "def dist_L2(A, B):\n",
    "    return np.sqrt((np.array(abs_deviation(A, B))**2).sum(axis=1))"
   ]
  },
  {
   "cell_type": "markdown",
   "metadata": {},
   "source": [
    "#### 1. Diagonal adjustment of the generator matrix (weighted/ unweighted)\n",
    "\n",
    "Main condition for validity of generator matrix is that all off-diagonal elements must be >0 and sum of all rows must be 0. This condition can be forced by adjusting the diagonal."
   ]
  },
  {
   "cell_type": "code",
   "execution_count": 288,
   "metadata": {
    "collapsed": false
   },
   "outputs": [],
   "source": [
    "def diag_adj(mtmat):\n",
    "    G_da = linalg.logm(mtmat)\n",
    "    for n, row in enumerate(G_da):\n",
    "        row = np.array([max(x, 0) if i!=n else x for i, x in enumerate(row)])\n",
    "        row[n] -= row.sum()\n",
    "#         print (row.sum())\n",
    "        G_da[n] = row\n",
    "    return G_da"
   ]
  },
  {
   "cell_type": "code",
   "execution_count": 289,
   "metadata": {
    "collapsed": true
   },
   "outputs": [],
   "source": [
    "def wtd_adj(mtmat):\n",
    "    l = len(mtmat)\n",
    "    G_wa = linalg.logm(mtmat)\n",
    "    for n, row in enumerate(G_wa):\n",
    "        row = np.array([max(x, 0) if i!=n else x for i, x in enumerate(row)])\n",
    "        row = np.array([x - abs(x)*row.sum()/abs(row).sum() for i, x in enumerate(row)])\n",
    "#         print (row.sum())\n",
    "        G_wa[n] = row if n!=l-1 else np.zeros(l)\n",
    "    return G_wa    "
   ]
  },
  {
   "cell_type": "code",
   "execution_count": 300,
   "metadata": {
    "collapsed": false
   },
   "outputs": [
    {
     "data": {
      "text/html": [
       "<div>\n",
       "<table border=\"1\" class=\"dataframe\">\n",
       "  <thead>\n",
       "    <tr style=\"text-align: right;\">\n",
       "      <th></th>\n",
       "      <th>Aaa</th>\n",
       "      <th>Aa</th>\n",
       "      <th>A</th>\n",
       "      <th>Baa</th>\n",
       "      <th>Ba</th>\n",
       "      <th>B</th>\n",
       "      <th>C</th>\n",
       "      <th>D</th>\n",
       "    </tr>\n",
       "  </thead>\n",
       "  <tbody>\n",
       "    <tr>\n",
       "      <th>Aaa</th>\n",
       "      <td>-0.109633</td>\n",
       "      <td>0.109368</td>\n",
       "      <td>0.000000</td>\n",
       "      <td>0.000000</td>\n",
       "      <td>0.000265</td>\n",
       "      <td>0.000000</td>\n",
       "      <td>0.000000</td>\n",
       "      <td>0.000000</td>\n",
       "    </tr>\n",
       "    <tr>\n",
       "      <th>Aa</th>\n",
       "      <td>0.010268</td>\n",
       "      <td>-0.119912</td>\n",
       "      <td>0.107573</td>\n",
       "      <td>0.000335</td>\n",
       "      <td>0.001278</td>\n",
       "      <td>0.000053</td>\n",
       "      <td>0.000000</td>\n",
       "      <td>0.000406</td>\n",
       "    </tr>\n",
       "    <tr>\n",
       "      <th>A</th>\n",
       "      <td>0.000730</td>\n",
       "      <td>0.024842</td>\n",
       "      <td>-0.102586</td>\n",
       "      <td>0.069204</td>\n",
       "      <td>0.006098</td>\n",
       "      <td>0.001646</td>\n",
       "      <td>0.000000</td>\n",
       "      <td>0.000066</td>\n",
       "    </tr>\n",
       "    <tr>\n",
       "      <th>Baa</th>\n",
       "      <td>0.000856</td>\n",
       "      <td>0.003312</td>\n",
       "      <td>0.068233</td>\n",
       "      <td>-0.161458</td>\n",
       "      <td>0.075267</td>\n",
       "      <td>0.011765</td>\n",
       "      <td>0.001024</td>\n",
       "      <td>0.001000</td>\n",
       "    </tr>\n",
       "    <tr>\n",
       "      <th>Ba</th>\n",
       "      <td>0.000312</td>\n",
       "      <td>0.000746</td>\n",
       "      <td>0.003536</td>\n",
       "      <td>0.046727</td>\n",
       "      <td>-0.159811</td>\n",
       "      <td>0.092681</td>\n",
       "      <td>0.004471</td>\n",
       "      <td>0.011338</td>\n",
       "    </tr>\n",
       "    <tr>\n",
       "      <th>B</th>\n",
       "      <td>0.000099</td>\n",
       "      <td>0.000402</td>\n",
       "      <td>0.001512</td>\n",
       "      <td>0.004385</td>\n",
       "      <td>0.068485</td>\n",
       "      <td>-0.178086</td>\n",
       "      <td>0.036726</td>\n",
       "      <td>0.066477</td>\n",
       "    </tr>\n",
       "    <tr>\n",
       "      <th>C</th>\n",
       "      <td>0.000000</td>\n",
       "      <td>0.000000</td>\n",
       "      <td>0.000000</td>\n",
       "      <td>0.012324</td>\n",
       "      <td>0.034187</td>\n",
       "      <td>0.070679</td>\n",
       "      <td>-0.425598</td>\n",
       "      <td>0.308408</td>\n",
       "    </tr>\n",
       "    <tr>\n",
       "      <th>D</th>\n",
       "      <td>0.000000</td>\n",
       "      <td>0.000000</td>\n",
       "      <td>0.000000</td>\n",
       "      <td>0.000000</td>\n",
       "      <td>0.000000</td>\n",
       "      <td>0.000000</td>\n",
       "      <td>0.000000</td>\n",
       "      <td>0.000000</td>\n",
       "    </tr>\n",
       "  </tbody>\n",
       "</table>\n",
       "</div>"
      ],
      "text/plain": [
       "          Aaa        Aa         A       Baa        Ba         B         C  \\\n",
       "Aaa -0.109633  0.109368  0.000000  0.000000  0.000265  0.000000  0.000000   \n",
       "Aa   0.010268 -0.119912  0.107573  0.000335  0.001278  0.000053  0.000000   \n",
       "A    0.000730  0.024842 -0.102586  0.069204  0.006098  0.001646  0.000000   \n",
       "Baa  0.000856  0.003312  0.068233 -0.161458  0.075267  0.011765  0.001024   \n",
       "Ba   0.000312  0.000746  0.003536  0.046727 -0.159811  0.092681  0.004471   \n",
       "B    0.000099  0.000402  0.001512  0.004385  0.068485 -0.178086  0.036726   \n",
       "C    0.000000  0.000000  0.000000  0.012324  0.034187  0.070679 -0.425598   \n",
       "D    0.000000  0.000000  0.000000  0.000000  0.000000  0.000000  0.000000   \n",
       "\n",
       "            D  \n",
       "Aaa  0.000000  \n",
       "Aa   0.000406  \n",
       "A    0.000066  \n",
       "Baa  0.001000  \n",
       "Ba   0.011338  \n",
       "B    0.066477  \n",
       "C    0.308408  \n",
       "D    0.000000  "
      ]
     },
     "execution_count": 300,
     "metadata": {},
     "output_type": "execute_result"
    }
   ],
   "source": [
    "to_df(diag_adj(mtmat))"
   ]
  },
  {
   "cell_type": "markdown",
   "metadata": {},
   "source": [
    "#### 2. Quasi- optimization algo (QOM)."
   ]
  },
  {
   "cell_type": "code",
   "execution_count": 167,
   "metadata": {
    "collapsed": false
   },
   "outputs": [],
   "source": [
    "def permute(x, desc=True):\n",
    "    perm = x.argsort()\n",
    "    if not desc: return x[perm], perm\n",
    "    else: return x[perm[::-1]], perm[::-1]\n",
    "def rev_permute(x, argsort):\n",
    "    return x[argsort.argsort()]"
   ]
  },
  {
   "cell_type": "code",
   "execution_count": 260,
   "metadata": {
    "collapsed": false
   },
   "outputs": [],
   "source": [
    "def solveQOM(mtmat, t):\n",
    "    frac_tmat = linalg.fractional_matrix_power(mtmat, t)\n",
    "    A_qom = frac_tmat.copy()\n",
    "    for n in range(len(A_qom)-1):\n",
    "        b = A_qom[n] - (A_qom[n].sum() - 1)/len(A_qom[n])\n",
    "        ahat, perm = permute(b)\n",
    "        C = np.zeros(len(ahat))\n",
    "        for k in range(len(ahat)):\n",
    "            C[k] = ahat[:k+1].sum() - (k+1)*ahat[k]\n",
    "        k_ = np.argwhere(C<=1).squeeze().max()+1\n",
    "        adj = (1 - ahat[:k_].sum())/k_\n",
    "        xhat = np.zeros(len(C))\n",
    "        for j in range(k_):\n",
    "            xhat[j] = ahat[j] + adj\n",
    "        A_qom[n] = rev_permute(xhat, perm)\n",
    "    return np.matrix(A_qom)"
   ]
  },
  {
   "cell_type": "code",
   "execution_count": 261,
   "metadata": {
    "collapsed": false
   },
   "outputs": [],
   "source": [
    "t = 1/2.\n",
    "qom = solveQOM(mtmat, t)\n",
    "frac_mtmat = np.matrix(linalg.fractional_matrix_power(mtmat, t))"
   ]
  },
  {
   "cell_type": "code",
   "execution_count": 262,
   "metadata": {
    "collapsed": false
   },
   "outputs": [
    {
     "name": "stdout",
     "output_type": "stream",
     "text": [
      "0.00013206272685043014 7.256059424915333e-06 \n",
      "\n",
      "[5.92232919e-05 1.20606155e-06 2.43873150e-05 3.83589687e-16\n",
      " 5.59947672e-16 4.54378356e-16 1.48014436e-04 0.00000000e+00]\n"
     ]
    }
   ],
   "source": [
    "print (MAX(frac_mtmat, qom), MAD(frac_mtmat, qom), '\\n')\n",
    "print (dist_L2(frac_mtmat, qom))"
   ]
  },
  {
   "cell_type": "markdown",
   "metadata": {},
   "source": [
    "QOG"
   ]
  },
  {
   "cell_type": "code",
   "execution_count": 106,
   "metadata": {
    "collapsed": false
   },
   "outputs": [],
   "source": [
    "G = linalg.logm(mtmat)"
   ]
  },
  {
   "cell_type": "code",
   "execution_count": 108,
   "metadata": {
    "collapsed": false
   },
   "outputs": [
    {
     "data": {
      "text/html": [
       "<div>\n",
       "<table border=\"1\" class=\"dataframe\">\n",
       "  <thead>\n",
       "    <tr style=\"text-align: right;\">\n",
       "      <th></th>\n",
       "      <th>Aaa</th>\n",
       "      <th>Aa</th>\n",
       "      <th>A</th>\n",
       "      <th>Baa</th>\n",
       "      <th>Ba</th>\n",
       "      <th>B</th>\n",
       "      <th>C</th>\n",
       "      <th>D</th>\n",
       "    </tr>\n",
       "  </thead>\n",
       "  <tbody>\n",
       "    <tr>\n",
       "      <th>Aaa</th>\n",
       "      <td>-0.108926</td>\n",
       "      <td>0.109368</td>\n",
       "      <td>-0.000519</td>\n",
       "      <td>-0.000145</td>\n",
       "      <td>0.000265</td>\n",
       "      <td>-0.000020</td>\n",
       "      <td>-2.086258e-07</td>\n",
       "      <td>-0.000023</td>\n",
       "    </tr>\n",
       "    <tr>\n",
       "      <th>Aa</th>\n",
       "      <td>0.010268</td>\n",
       "      <td>-0.119909</td>\n",
       "      <td>0.107573</td>\n",
       "      <td>0.000335</td>\n",
       "      <td>0.001278</td>\n",
       "      <td>0.000053</td>\n",
       "      <td>-2.960977e-06</td>\n",
       "      <td>0.000406</td>\n",
       "    </tr>\n",
       "    <tr>\n",
       "      <th>A</th>\n",
       "      <td>0.000730</td>\n",
       "      <td>0.024842</td>\n",
       "      <td>-0.102490</td>\n",
       "      <td>0.069204</td>\n",
       "      <td>0.006098</td>\n",
       "      <td>0.001646</td>\n",
       "      <td>-9.551692e-05</td>\n",
       "      <td>0.000066</td>\n",
       "    </tr>\n",
       "    <tr>\n",
       "      <th>Baa</th>\n",
       "      <td>0.000856</td>\n",
       "      <td>0.003312</td>\n",
       "      <td>0.068233</td>\n",
       "      <td>-0.161458</td>\n",
       "      <td>0.075267</td>\n",
       "      <td>0.011765</td>\n",
       "      <td>1.024234e-03</td>\n",
       "      <td>0.001000</td>\n",
       "    </tr>\n",
       "    <tr>\n",
       "      <th>Ba</th>\n",
       "      <td>0.000312</td>\n",
       "      <td>0.000746</td>\n",
       "      <td>0.003536</td>\n",
       "      <td>0.046727</td>\n",
       "      <td>-0.159811</td>\n",
       "      <td>0.092681</td>\n",
       "      <td>4.471411e-03</td>\n",
       "      <td>0.011338</td>\n",
       "    </tr>\n",
       "    <tr>\n",
       "      <th>B</th>\n",
       "      <td>0.000099</td>\n",
       "      <td>0.000402</td>\n",
       "      <td>0.001512</td>\n",
       "      <td>0.004385</td>\n",
       "      <td>0.068485</td>\n",
       "      <td>-0.178086</td>\n",
       "      <td>3.672573e-02</td>\n",
       "      <td>0.066477</td>\n",
       "    </tr>\n",
       "    <tr>\n",
       "      <th>C</th>\n",
       "      <td>-0.000015</td>\n",
       "      <td>-0.000048</td>\n",
       "      <td>-0.000578</td>\n",
       "      <td>0.012324</td>\n",
       "      <td>0.034187</td>\n",
       "      <td>0.070679</td>\n",
       "      <td>-4.249562e-01</td>\n",
       "      <td>0.308408</td>\n",
       "    </tr>\n",
       "    <tr>\n",
       "      <th>D</th>\n",
       "      <td>0.000000</td>\n",
       "      <td>0.000000</td>\n",
       "      <td>0.000000</td>\n",
       "      <td>0.000000</td>\n",
       "      <td>0.000000</td>\n",
       "      <td>0.000000</td>\n",
       "      <td>0.000000e+00</td>\n",
       "      <td>0.000000</td>\n",
       "    </tr>\n",
       "  </tbody>\n",
       "</table>\n",
       "</div>"
      ],
      "text/plain": [
       "          Aaa        Aa         A       Baa        Ba         B             C  \\\n",
       "Aaa -0.108926  0.109368 -0.000519 -0.000145  0.000265 -0.000020 -2.086258e-07   \n",
       "Aa   0.010268 -0.119909  0.107573  0.000335  0.001278  0.000053 -2.960977e-06   \n",
       "A    0.000730  0.024842 -0.102490  0.069204  0.006098  0.001646 -9.551692e-05   \n",
       "Baa  0.000856  0.003312  0.068233 -0.161458  0.075267  0.011765  1.024234e-03   \n",
       "Ba   0.000312  0.000746  0.003536  0.046727 -0.159811  0.092681  4.471411e-03   \n",
       "B    0.000099  0.000402  0.001512  0.004385  0.068485 -0.178086  3.672573e-02   \n",
       "C   -0.000015 -0.000048 -0.000578  0.012324  0.034187  0.070679 -4.249562e-01   \n",
       "D    0.000000  0.000000  0.000000  0.000000  0.000000  0.000000  0.000000e+00   \n",
       "\n",
       "            D  \n",
       "Aaa -0.000023  \n",
       "Aa   0.000406  \n",
       "A    0.000066  \n",
       "Baa  0.001000  \n",
       "Ba   0.011338  \n",
       "B    0.066477  \n",
       "C    0.308408  \n",
       "D    0.000000  "
      ]
     },
     "execution_count": 108,
     "metadata": {},
     "output_type": "execute_result"
    }
   ],
   "source": [
    "to_df(G)"
   ]
  },
  {
   "cell_type": "code",
   "execution_count": 109,
   "metadata": {
    "collapsed": false
   },
   "outputs": [
    {
     "data": {
      "text/plain": [
       "array([ 5.37330597e-16, -3.31982705e-16,  1.11542720e-15,  9.99200722e-16,\n",
       "        8.04911693e-16,  9.53230550e-16, -7.58074159e-16,  0.00000000e+00])"
      ]
     },
     "execution_count": 109,
     "metadata": {},
     "output_type": "execute_result"
    }
   ],
   "source": [
    "G.sum(axis=1)"
   ]
  },
  {
   "cell_type": "code",
   "execution_count": 341,
   "metadata": {
    "collapsed": false
   },
   "outputs": [],
   "source": [
    "def solveQOG(mtmat):\n",
    "    G_qog = linalg.logm(mtmat)\n",
    "    k = len(G_qog)\n",
    "    for n in range(k):\n",
    "        b = G_qog[n] - G_qog[n].sum()/k\n",
    "        ahat, perm = permute(b)\n",
    "        C = np.zeros(k)-1\n",
    "        for l in range(1, k-1):\n",
    "            if (k-l)*ahat[l+1] >= ahat[0] + ahat[(l+1):].sum(): break\n",
    "        l_ = l+1\n",
    "        adj = (ahat[0] + ahat[l_:].sum())/(k-l_+1)\n",
    "        xhat = np.zeros(len(C))\n",
    "        for j in range(k):\n",
    "            xhat[j] = 0 if (j>=1 and j<l_) else ahat[j] - adj        \n",
    "        G_qog[n] = rev_permute(xhat, perm)\n",
    "    return np.matrix(G_qog)"
   ]
  },
  {
   "cell_type": "code",
   "execution_count": 342,
   "metadata": {
    "collapsed": false
   },
   "outputs": [],
   "source": [
    "t = 1/2.\n",
    "qog = solveQOG(mtmat)\n",
    "A_qog = linalg.expm(t*qog)\n",
    "frac_mtmat = np.matrix(linalg.fractional_matrix_power(mtmat, t))"
   ]
  },
  {
   "cell_type": "code",
   "execution_count": 332,
   "metadata": {
    "collapsed": false
   },
   "outputs": [
    {
     "name": "stdout",
     "output_type": "stream",
     "text": [
      "0.2878669291525335 0.03552998588139285 \n",
      "\n",
      "4.163336342344337e-15 1.1449412110672158e-15 \n",
      "\n"
     ]
    }
   ],
   "source": [
    "print (MAX(mtmat**15, linalg.expm(15*qog)), MAD(mtmat**15, linalg.expm(15*qog)), '\\n')\n",
    "print (MAX(mtmat**15, linalg.expm(15*G)), MAD(mtmat**15, linalg.expm(15*G)), '\\n')"
   ]
  },
  {
   "cell_type": "code",
   "execution_count": 318,
   "metadata": {
    "collapsed": false
   },
   "outputs": [
    {
     "data": {
      "text/html": [
       "<div>\n",
       "<table border=\"1\" class=\"dataframe\">\n",
       "  <thead>\n",
       "    <tr style=\"text-align: right;\">\n",
       "      <th></th>\n",
       "      <th>Aaa</th>\n",
       "      <th>Aa</th>\n",
       "      <th>A</th>\n",
       "      <th>Baa</th>\n",
       "      <th>Ba</th>\n",
       "      <th>B</th>\n",
       "      <th>C</th>\n",
       "      <th>D</th>\n",
       "    </tr>\n",
       "  </thead>\n",
       "  <tbody>\n",
       "    <tr>\n",
       "      <th>Aaa</th>\n",
       "      <td>0.896839</td>\n",
       "      <td>0.097653</td>\n",
       "      <td>0.004918</td>\n",
       "      <td>0.000107</td>\n",
       "      <td>0.000152</td>\n",
       "      <td>0.000102</td>\n",
       "      <td>0.000101</td>\n",
       "      <td>0.000129</td>\n",
       "    </tr>\n",
       "    <tr>\n",
       "      <th>Aa</th>\n",
       "      <td>0.000255</td>\n",
       "      <td>0.888363</td>\n",
       "      <td>0.097843</td>\n",
       "      <td>0.005108</td>\n",
       "      <td>0.003118</td>\n",
       "      <td>0.001749</td>\n",
       "      <td>0.001346</td>\n",
       "      <td>0.002218</td>\n",
       "    </tr>\n",
       "    <tr>\n",
       "      <th>A</th>\n",
       "      <td>0.004278</td>\n",
       "      <td>0.000727</td>\n",
       "      <td>0.905920</td>\n",
       "      <td>0.064265</td>\n",
       "      <td>0.011487</td>\n",
       "      <td>0.005741</td>\n",
       "      <td>0.003164</td>\n",
       "      <td>0.004419</td>\n",
       "    </tr>\n",
       "    <tr>\n",
       "      <th>Baa</th>\n",
       "      <td>0.009721</td>\n",
       "      <td>0.012364</td>\n",
       "      <td>0.001205</td>\n",
       "      <td>0.859522</td>\n",
       "      <td>0.074035</td>\n",
       "      <td>0.021983</td>\n",
       "      <td>0.008968</td>\n",
       "      <td>0.012202</td>\n",
       "    </tr>\n",
       "    <tr>\n",
       "      <th>Ba</th>\n",
       "      <td>0.006627</td>\n",
       "      <td>0.007324</td>\n",
       "      <td>0.009927</td>\n",
       "      <td>0.001055</td>\n",
       "      <td>0.861630</td>\n",
       "      <td>0.084750</td>\n",
       "      <td>0.010252</td>\n",
       "      <td>0.018434</td>\n",
       "    </tr>\n",
       "    <tr>\n",
       "      <th>B</th>\n",
       "      <td>0.008881</td>\n",
       "      <td>0.009588</td>\n",
       "      <td>0.010683</td>\n",
       "      <td>0.012635</td>\n",
       "      <td>0.067884</td>\n",
       "      <td>0.848360</td>\n",
       "      <td>0.035095</td>\n",
       "      <td>0.006874</td>\n",
       "    </tr>\n",
       "    <tr>\n",
       "      <th>C</th>\n",
       "      <td>0.008037</td>\n",
       "      <td>0.008440</td>\n",
       "      <td>0.008055</td>\n",
       "      <td>0.017251</td>\n",
       "      <td>0.034298</td>\n",
       "      <td>0.001971</td>\n",
       "      <td>0.660750</td>\n",
       "      <td>0.261197</td>\n",
       "    </tr>\n",
       "    <tr>\n",
       "      <th>D</th>\n",
       "      <td>0.000000</td>\n",
       "      <td>0.000000</td>\n",
       "      <td>0.000000</td>\n",
       "      <td>0.000000</td>\n",
       "      <td>0.000000</td>\n",
       "      <td>0.000000</td>\n",
       "      <td>0.000000</td>\n",
       "      <td>1.000000</td>\n",
       "    </tr>\n",
       "  </tbody>\n",
       "</table>\n",
       "</div>"
      ],
      "text/plain": [
       "          Aaa        Aa         A       Baa        Ba         B         C  \\\n",
       "Aaa  0.896839  0.097653  0.004918  0.000107  0.000152  0.000102  0.000101   \n",
       "Aa   0.000255  0.888363  0.097843  0.005108  0.003118  0.001749  0.001346   \n",
       "A    0.004278  0.000727  0.905920  0.064265  0.011487  0.005741  0.003164   \n",
       "Baa  0.009721  0.012364  0.001205  0.859522  0.074035  0.021983  0.008968   \n",
       "Ba   0.006627  0.007324  0.009927  0.001055  0.861630  0.084750  0.010252   \n",
       "B    0.008881  0.009588  0.010683  0.012635  0.067884  0.848360  0.035095   \n",
       "C    0.008037  0.008440  0.008055  0.017251  0.034298  0.001971  0.660750   \n",
       "D    0.000000  0.000000  0.000000  0.000000  0.000000  0.000000  0.000000   \n",
       "\n",
       "            D  \n",
       "Aaa  0.000129  \n",
       "Aa   0.002218  \n",
       "A    0.004419  \n",
       "Baa  0.012202  \n",
       "Ba   0.018434  \n",
       "B    0.006874  \n",
       "C    0.261197  \n",
       "D    1.000000  "
      ]
     },
     "execution_count": 318,
     "metadata": {},
     "output_type": "execute_result"
    }
   ],
   "source": [
    "da=solveQOG(mtmat)\n",
    "df=to_df(linalg.expm(da))\n",
    "df"
   ]
  },
  {
   "cell_type": "code",
   "execution_count": 299,
   "metadata": {
    "collapsed": false
   },
   "outputs": [
    {
     "data": {
      "text/html": [
       "<div>\n",
       "<table border=\"1\" class=\"dataframe\">\n",
       "  <thead>\n",
       "    <tr style=\"text-align: right;\">\n",
       "      <th></th>\n",
       "      <th>Aaa</th>\n",
       "      <th>Aa</th>\n",
       "      <th>A</th>\n",
       "      <th>Baa</th>\n",
       "      <th>Ba</th>\n",
       "      <th>B</th>\n",
       "      <th>C</th>\n",
       "      <th>D</th>\n",
       "    </tr>\n",
       "  </thead>\n",
       "  <tbody>\n",
       "    <tr>\n",
       "      <th>Aaa</th>\n",
       "      <td>0.8973</td>\n",
       "      <td>0.0976</td>\n",
       "      <td>0.0048</td>\n",
       "      <td>0.0000</td>\n",
       "      <td>0.0003</td>\n",
       "      <td>0.0000</td>\n",
       "      <td>0.0000</td>\n",
       "      <td>0.0000</td>\n",
       "    </tr>\n",
       "    <tr>\n",
       "      <th>Aa</th>\n",
       "      <td>0.0092</td>\n",
       "      <td>0.8887</td>\n",
       "      <td>0.0964</td>\n",
       "      <td>0.0036</td>\n",
       "      <td>0.0015</td>\n",
       "      <td>0.0002</td>\n",
       "      <td>0.0000</td>\n",
       "      <td>0.0004</td>\n",
       "    </tr>\n",
       "    <tr>\n",
       "      <th>A</th>\n",
       "      <td>0.0008</td>\n",
       "      <td>0.0224</td>\n",
       "      <td>0.9059</td>\n",
       "      <td>0.0609</td>\n",
       "      <td>0.0077</td>\n",
       "      <td>0.0021</td>\n",
       "      <td>0.0000</td>\n",
       "      <td>0.0002</td>\n",
       "    </tr>\n",
       "    <tr>\n",
       "      <th>Baa</th>\n",
       "      <td>0.0008</td>\n",
       "      <td>0.0037</td>\n",
       "      <td>0.0602</td>\n",
       "      <td>0.8545</td>\n",
       "      <td>0.0648</td>\n",
       "      <td>0.0130</td>\n",
       "      <td>0.0011</td>\n",
       "      <td>0.0019</td>\n",
       "    </tr>\n",
       "    <tr>\n",
       "      <th>Ba</th>\n",
       "      <td>0.0003</td>\n",
       "      <td>0.0008</td>\n",
       "      <td>0.0046</td>\n",
       "      <td>0.0402</td>\n",
       "      <td>0.8566</td>\n",
       "      <td>0.0788</td>\n",
       "      <td>0.0047</td>\n",
       "      <td>0.0140</td>\n",
       "    </tr>\n",
       "    <tr>\n",
       "      <th>B</th>\n",
       "      <td>0.0001</td>\n",
       "      <td>0.0004</td>\n",
       "      <td>0.0016</td>\n",
       "      <td>0.0053</td>\n",
       "      <td>0.0586</td>\n",
       "      <td>0.8406</td>\n",
       "      <td>0.0274</td>\n",
       "      <td>0.0660</td>\n",
       "    </tr>\n",
       "    <tr>\n",
       "      <th>C</th>\n",
       "      <td>0.0000</td>\n",
       "      <td>0.0000</td>\n",
       "      <td>0.0000</td>\n",
       "      <td>0.0100</td>\n",
       "      <td>0.0279</td>\n",
       "      <td>0.0538</td>\n",
       "      <td>0.6548</td>\n",
       "      <td>0.2535</td>\n",
       "    </tr>\n",
       "    <tr>\n",
       "      <th>D</th>\n",
       "      <td>0.0000</td>\n",
       "      <td>0.0000</td>\n",
       "      <td>0.0000</td>\n",
       "      <td>0.0000</td>\n",
       "      <td>0.0000</td>\n",
       "      <td>0.0000</td>\n",
       "      <td>0.0000</td>\n",
       "      <td>1.0000</td>\n",
       "    </tr>\n",
       "  </tbody>\n",
       "</table>\n",
       "</div>"
      ],
      "text/plain": [
       "        Aaa      Aa       A     Baa      Ba       B       C       D\n",
       "Aaa  0.8973  0.0976  0.0048  0.0000  0.0003  0.0000  0.0000  0.0000\n",
       "Aa   0.0092  0.8887  0.0964  0.0036  0.0015  0.0002  0.0000  0.0004\n",
       "A    0.0008  0.0224  0.9059  0.0609  0.0077  0.0021  0.0000  0.0002\n",
       "Baa  0.0008  0.0037  0.0602  0.8545  0.0648  0.0130  0.0011  0.0019\n",
       "Ba   0.0003  0.0008  0.0046  0.0402  0.8566  0.0788  0.0047  0.0140\n",
       "B    0.0001  0.0004  0.0016  0.0053  0.0586  0.8406  0.0274  0.0660\n",
       "C    0.0000  0.0000  0.0000  0.0100  0.0279  0.0538  0.6548  0.2535\n",
       "D    0.0000  0.0000  0.0000  0.0000  0.0000  0.0000  0.0000  1.0000"
      ]
     },
     "execution_count": 299,
     "metadata": {},
     "output_type": "execute_result"
    }
   ],
   "source": [
    "to_df(mtmat)"
   ]
  },
  {
   "cell_type": "code",
   "execution_count": 409,
   "metadata": {
    "collapsed": false
   },
   "outputs": [],
   "source": [
    "N = 30\n",
    "rng = range(1, N+1)\n",
    "\n",
    "n=10\n",
    "qom = solveQOM(mtmat, 1/n)\n",
    "\n",
    "G = linalg.logm(mtmat)\n",
    "qog = solveQOG(mtmat)\n",
    "wa = wtd_adj(mtmat)\n",
    "da = diag_adj(mtmat)\n",
    "\n",
    "MAXdf = pd.DataFrame(columns=['QOM','QOG','WA','DA','G'], index=rng)\n",
    "MADdf = MAXdf.copy()\n",
    "L2df = MAXdf.copy()\n",
    "\n",
    "def L2(A, B): return dist_L2(A, B).mean()\n",
    "for T in rng:\n",
    "    ntmat = mtmat**T\n",
    "    MAXdf.loc[T] = [MAX(ntmat, qom**(n*T)), MAX(ntmat, linalg.expm(qog*T)), MAX(ntmat, linalg.expm(wa*T)), MAX(ntmat, linalg.expm(da*T)), MAX(ntmat, linalg.expm(G*T))]\n",
    "    MADdf.loc[T] = [MAD(ntmat, qom**(n*T)), MAD(ntmat, linalg.expm(qog*T)), MAD(ntmat, linalg.expm(wa*T)), MAD(ntmat, linalg.expm(da*T)), MAD(ntmat, linalg.expm(G*T))]\n",
    "    L2df.loc[T] = [L2(ntmat, qom**(n*T)), L2(ntmat, linalg.expm(qog*T)), L2(ntmat, linalg.expm(wa*T)), L2(ntmat, linalg.expm(da*T)), L2(ntmat, linalg.expm(G*T))]"
   ]
  },
  {
   "cell_type": "code",
   "execution_count": 410,
   "metadata": {
    "collapsed": false
   },
   "outputs": [
    {
     "data": {
      "text/plain": [
       "<matplotlib.axes._subplots.AxesSubplot at 0x133abfe4da0>"
      ]
     },
     "execution_count": 410,
     "metadata": {},
     "output_type": "execute_result"
    },
    {
     "data": {
      "image/png": "[encoded data removed]",
      "text/plain": [
       "<matplotlib.figure.Figure at 0x133abd815f8>"
      ]
     },
     "metadata": {},
     "output_type": "display_data"
    }
   ],
   "source": [
    "MAXdf[['QOM','WA','DA', 'G']].plot(legend=True)"
   ]
  },
  {
   "cell_type": "code",
   "execution_count": 411,
   "metadata": {
    "collapsed": false
   },
   "outputs": [
    {
     "data": {
      "text/plain": [
       "<matplotlib.axes._subplots.AxesSubplot at 0x133ae66ae10>"
      ]
     },
     "execution_count": 411,
     "metadata": {},
     "output_type": "execute_result"
    },
    {
     "data": {
      "image/png": "[encoded data removed]",
      "text/plain": [
       "<matplotlib.figure.Figure at 0x133ae6c8080>"
      ]
     },
     "metadata": {},
     "output_type": "display_data"
    }
   ],
   "source": [
    "MADdf[['QOM','WA','DA', 'G']].plot(legend=True)"
   ]
  },
  {
   "cell_type": "code",
   "execution_count": 412,
   "metadata": {
    "collapsed": false
   },
   "outputs": [
    {
     "data": {
      "text/plain": [
       "<matplotlib.axes._subplots.AxesSubplot at 0x133ad607ef0>"
      ]
     },
     "execution_count": 412,
     "metadata": {},
     "output_type": "execute_result"
    },
    {
     "data": {
      "image/png": "[encoded data removed]",
      "text/plain": [
       "<matplotlib.figure.Figure at 0x133ae73b898>"
      ]
     },
     "metadata": {},
     "output_type": "display_data"
    }
   ],
   "source": [
    "L2df[['QOM','WA','DA', 'G']].plot(legend=True)"
   ]
  },
  {
   "cell_type": "code",
   "execution_count": 402,
   "metadata": {
    "collapsed": false
   },
   "outputs": [
    {
     "data": {
      "text/plain": [
       "<matplotlib.axes._subplots.AxesSubplot at 0x133ad3420b8>"
      ]
     },
     "execution_count": 402,
     "metadata": {},
     "output_type": "execute_result"
    },
    {
     "data": {
      "image/png": "[encoded data removed]",
      "text/plain": [
       "<matplotlib.figure.Figure at 0x133ad488eb8>"
      ]
     },
     "metadata": {},
     "output_type": "display_data"
    }
   ],
   "source": [
    "MAXdf[['G']].plot(legend=True)"
   ]
  },
  {
   "cell_type": "code",
   "execution_count": 429,
   "metadata": {
    "collapsed": false
   },
   "outputs": [
    {
     "data": {
      "text/html": [
       "<div>\n",
       "<table border=\"1\" class=\"dataframe\">\n",
       "  <thead>\n",
       "    <tr style=\"text-align: right;\">\n",
       "      <th></th>\n",
       "      <th>Aaa</th>\n",
       "      <th>Aa</th>\n",
       "      <th>A</th>\n",
       "      <th>Baa</th>\n",
       "      <th>Ba</th>\n",
       "      <th>B</th>\n",
       "      <th>C</th>\n",
       "      <th>D</th>\n",
       "    </tr>\n",
       "  </thead>\n",
       "  <tbody>\n",
       "    <tr>\n",
       "      <th>Aaa</th>\n",
       "      <td>0.587176</td>\n",
       "      <td>0.312361</td>\n",
       "      <td>0.085888</td>\n",
       "      <td>0.009718</td>\n",
       "      <td>0.003373</td>\n",
       "      <td>0.000848</td>\n",
       "      <td>0.000056</td>\n",
       "      <td>0.000581</td>\n",
       "    </tr>\n",
       "    <tr>\n",
       "      <th>Aa</th>\n",
       "      <td>0.030079</td>\n",
       "      <td>0.576582</td>\n",
       "      <td>0.319663</td>\n",
       "      <td>0.052010</td>\n",
       "      <td>0.014350</td>\n",
       "      <td>0.004347</td>\n",
       "      <td>0.000308</td>\n",
       "      <td>0.002660</td>\n",
       "    </tr>\n",
       "    <tr>\n",
       "      <th>A</th>\n",
       "      <td>0.004565</td>\n",
       "      <td>0.076044</td>\n",
       "      <td>0.652553</td>\n",
       "      <td>0.189836</td>\n",
       "      <td>0.051945</td>\n",
       "      <td>0.018017</td>\n",
       "      <td>0.001427</td>\n",
       "      <td>0.005613</td>\n",
       "    </tr>\n",
       "    <tr>\n",
       "      <th>Baa</th>\n",
       "      <td>0.003221</td>\n",
       "      <td>0.021335</td>\n",
       "      <td>0.189816</td>\n",
       "      <td>0.497972</td>\n",
       "      <td>0.187178</td>\n",
       "      <td>0.067963</td>\n",
       "      <td>0.006171</td>\n",
       "      <td>0.026344</td>\n",
       "    </tr>\n",
       "    <tr>\n",
       "      <th>Ba</th>\n",
       "      <td>0.001292</td>\n",
       "      <td>0.004986</td>\n",
       "      <td>0.032365</td>\n",
       "      <td>0.116002</td>\n",
       "      <td>0.508471</td>\n",
       "      <td>0.214037</td>\n",
       "      <td>0.019110</td>\n",
       "      <td>0.103738</td>\n",
       "    </tr>\n",
       "    <tr>\n",
       "      <th>B</th>\n",
       "      <td>0.000500</td>\n",
       "      <td>0.002115</td>\n",
       "      <td>0.010329</td>\n",
       "      <td>0.031149</td>\n",
       "      <td>0.161872</td>\n",
       "      <td>0.456291</td>\n",
       "      <td>0.046608</td>\n",
       "      <td>0.291135</td>\n",
       "    </tr>\n",
       "    <tr>\n",
       "      <th>C</th>\n",
       "      <td>0.000170</td>\n",
       "      <td>0.000779</td>\n",
       "      <td>0.006076</td>\n",
       "      <td>0.025454</td>\n",
       "      <td>0.067575</td>\n",
       "      <td>0.100538</td>\n",
       "      <td>0.126727</td>\n",
       "      <td>0.672681</td>\n",
       "    </tr>\n",
       "    <tr>\n",
       "      <th>D</th>\n",
       "      <td>0.000000</td>\n",
       "      <td>0.000000</td>\n",
       "      <td>0.000000</td>\n",
       "      <td>0.000000</td>\n",
       "      <td>0.000000</td>\n",
       "      <td>0.000000</td>\n",
       "      <td>0.000000</td>\n",
       "      <td>1.000000</td>\n",
       "    </tr>\n",
       "  </tbody>\n",
       "</table>\n",
       "</div>"
      ],
      "text/plain": [
       "          Aaa        Aa         A       Baa        Ba         B         C  \\\n",
       "Aaa  0.587176  0.312361  0.085888  0.009718  0.003373  0.000848  0.000056   \n",
       "Aa   0.030079  0.576582  0.319663  0.052010  0.014350  0.004347  0.000308   \n",
       "A    0.004565  0.076044  0.652553  0.189836  0.051945  0.018017  0.001427   \n",
       "Baa  0.003221  0.021335  0.189816  0.497972  0.187178  0.067963  0.006171   \n",
       "Ba   0.001292  0.004986  0.032365  0.116002  0.508471  0.214037  0.019110   \n",
       "B    0.000500  0.002115  0.010329  0.031149  0.161872  0.456291  0.046608   \n",
       "C    0.000170  0.000779  0.006076  0.025454  0.067575  0.100538  0.126727   \n",
       "D    0.000000  0.000000  0.000000  0.000000  0.000000  0.000000  0.000000   \n",
       "\n",
       "            D  \n",
       "Aaa  0.000581  \n",
       "Aa   0.002660  \n",
       "A    0.005613  \n",
       "Baa  0.026344  \n",
       "Ba   0.103738  \n",
       "B    0.291135  \n",
       "C    0.672681  \n",
       "D    1.000000  "
      ]
     },
     "execution_count": 429,
     "metadata": {},
     "output_type": "execute_result"
    }
   ],
   "source": [
    "to_df(linalg.expm(wa*5))"
   ]
  },
  {
   "cell_type": "code",
   "execution_count": 428,
   "metadata": {
    "collapsed": false
   },
   "outputs": [
    {
     "data": {
      "text/html": [
       "<div>\n",
       "<table border=\"1\" class=\"dataframe\">\n",
       "  <thead>\n",
       "    <tr style=\"text-align: right;\">\n",
       "      <th></th>\n",
       "      <th>Aaa</th>\n",
       "      <th>Aa</th>\n",
       "      <th>A</th>\n",
       "      <th>Baa</th>\n",
       "      <th>Ba</th>\n",
       "      <th>B</th>\n",
       "      <th>C</th>\n",
       "      <th>D</th>\n",
       "    </tr>\n",
       "  </thead>\n",
       "  <tbody>\n",
       "    <tr>\n",
       "      <th>Aaa</th>\n",
       "      <td>0.587176</td>\n",
       "      <td>0.312361</td>\n",
       "      <td>0.085888</td>\n",
       "      <td>0.009718</td>\n",
       "      <td>0.003373</td>\n",
       "      <td>0.000848</td>\n",
       "      <td>0.000056</td>\n",
       "      <td>0.000581</td>\n",
       "    </tr>\n",
       "    <tr>\n",
       "      <th>Aa</th>\n",
       "      <td>0.030079</td>\n",
       "      <td>0.576582</td>\n",
       "      <td>0.319663</td>\n",
       "      <td>0.052010</td>\n",
       "      <td>0.014350</td>\n",
       "      <td>0.004347</td>\n",
       "      <td>0.000308</td>\n",
       "      <td>0.002660</td>\n",
       "    </tr>\n",
       "    <tr>\n",
       "      <th>A</th>\n",
       "      <td>0.004565</td>\n",
       "      <td>0.076044</td>\n",
       "      <td>0.652553</td>\n",
       "      <td>0.189836</td>\n",
       "      <td>0.051945</td>\n",
       "      <td>0.018017</td>\n",
       "      <td>0.001427</td>\n",
       "      <td>0.005613</td>\n",
       "    </tr>\n",
       "    <tr>\n",
       "      <th>Baa</th>\n",
       "      <td>0.003221</td>\n",
       "      <td>0.021335</td>\n",
       "      <td>0.189816</td>\n",
       "      <td>0.497972</td>\n",
       "      <td>0.187178</td>\n",
       "      <td>0.067963</td>\n",
       "      <td>0.006171</td>\n",
       "      <td>0.026344</td>\n",
       "    </tr>\n",
       "    <tr>\n",
       "      <th>Ba</th>\n",
       "      <td>0.001292</td>\n",
       "      <td>0.004986</td>\n",
       "      <td>0.032365</td>\n",
       "      <td>0.116002</td>\n",
       "      <td>0.508471</td>\n",
       "      <td>0.214037</td>\n",
       "      <td>0.019110</td>\n",
       "      <td>0.103738</td>\n",
       "    </tr>\n",
       "    <tr>\n",
       "      <th>B</th>\n",
       "      <td>0.000500</td>\n",
       "      <td>0.002115</td>\n",
       "      <td>0.010329</td>\n",
       "      <td>0.031149</td>\n",
       "      <td>0.161872</td>\n",
       "      <td>0.456291</td>\n",
       "      <td>0.046608</td>\n",
       "      <td>0.291135</td>\n",
       "    </tr>\n",
       "    <tr>\n",
       "      <th>C</th>\n",
       "      <td>0.000170</td>\n",
       "      <td>0.000779</td>\n",
       "      <td>0.006076</td>\n",
       "      <td>0.025454</td>\n",
       "      <td>0.067575</td>\n",
       "      <td>0.100538</td>\n",
       "      <td>0.126727</td>\n",
       "      <td>0.672681</td>\n",
       "    </tr>\n",
       "    <tr>\n",
       "      <th>D</th>\n",
       "      <td>0.000000</td>\n",
       "      <td>0.000000</td>\n",
       "      <td>0.000000</td>\n",
       "      <td>0.000000</td>\n",
       "      <td>0.000000</td>\n",
       "      <td>0.000000</td>\n",
       "      <td>0.000000</td>\n",
       "      <td>1.000000</td>\n",
       "    </tr>\n",
       "  </tbody>\n",
       "</table>\n",
       "</div>"
      ],
      "text/plain": [
       "          Aaa        Aa         A       Baa        Ba         B         C  \\\n",
       "Aaa  0.587176  0.312361  0.085888  0.009718  0.003373  0.000848  0.000056   \n",
       "Aa   0.030079  0.576582  0.319663  0.052010  0.014350  0.004347  0.000308   \n",
       "A    0.004565  0.076044  0.652553  0.189836  0.051945  0.018017  0.001427   \n",
       "Baa  0.003221  0.021335  0.189816  0.497972  0.187178  0.067963  0.006171   \n",
       "Ba   0.001292  0.004986  0.032365  0.116002  0.508471  0.214037  0.019110   \n",
       "B    0.000500  0.002115  0.010329  0.031149  0.161872  0.456291  0.046608   \n",
       "C    0.000170  0.000779  0.006076  0.025454  0.067575  0.100538  0.126727   \n",
       "D    0.000000  0.000000  0.000000  0.000000  0.000000  0.000000  0.000000   \n",
       "\n",
       "            D  \n",
       "Aaa  0.000581  \n",
       "Aa   0.002660  \n",
       "A    0.005613  \n",
       "Baa  0.026344  \n",
       "Ba   0.103738  \n",
       "B    0.291135  \n",
       "C    0.672681  \n",
       "D    1.000000  "
      ]
     },
     "execution_count": 428,
     "metadata": {},
     "output_type": "execute_result"
    }
   ],
   "source": [
    "to_df(np.matrix(linalg.expm(wa))*np.matrix(linalg.expm(wa*1.5))*np.matrix(linalg.expm(wa*2.5)))"
   ]
  },
  {
   "cell_type": "code",
   "execution_count": 434,
   "metadata": {
    "collapsed": false
   },
   "outputs": [
    {
     "data": {
      "text/html": [
       "<div>\n",
       "<table border=\"1\" class=\"dataframe\">\n",
       "  <thead>\n",
       "    <tr style=\"text-align: right;\">\n",
       "      <th></th>\n",
       "      <th>Aaa</th>\n",
       "      <th>Aa</th>\n",
       "      <th>A</th>\n",
       "      <th>Baa</th>\n",
       "      <th>Ba</th>\n",
       "      <th>B</th>\n",
       "      <th>C</th>\n",
       "      <th>D</th>\n",
       "    </tr>\n",
       "  </thead>\n",
       "  <tbody>\n",
       "    <tr>\n",
       "      <th>Aaa</th>\n",
       "      <td>0.805997</td>\n",
       "      <td>0.174365</td>\n",
       "      <td>0.018017</td>\n",
       "      <td>0.000815</td>\n",
       "      <td>0.000669</td>\n",
       "      <td>0.000069</td>\n",
       "      <td>0.000003</td>\n",
       "      <td>0.000066</td>\n",
       "    </tr>\n",
       "    <tr>\n",
       "      <th>Aa</th>\n",
       "      <td>0.016510</td>\n",
       "      <td>0.792858</td>\n",
       "      <td>0.173266</td>\n",
       "      <td>0.012207</td>\n",
       "      <td>0.003606</td>\n",
       "      <td>0.000712</td>\n",
       "      <td>0.000025</td>\n",
       "      <td>0.000816</td>\n",
       "    </tr>\n",
       "    <tr>\n",
       "      <th>A</th>\n",
       "      <td>0.001689</td>\n",
       "      <td>0.040497</td>\n",
       "      <td>0.826510</td>\n",
       "      <td>0.107599</td>\n",
       "      <td>0.017664</td>\n",
       "      <td>0.005062</td>\n",
       "      <td>0.000223</td>\n",
       "      <td>0.000756</td>\n",
       "    </tr>\n",
       "    <tr>\n",
       "      <th>Baa</th>\n",
       "      <td>0.001504</td>\n",
       "      <td>0.007933</td>\n",
       "      <td>0.106655</td>\n",
       "      <td>0.736534</td>\n",
       "      <td>0.112140</td>\n",
       "      <td>0.027328</td>\n",
       "      <td>0.002324</td>\n",
       "      <td>0.005581</td>\n",
       "    </tr>\n",
       "    <tr>\n",
       "      <th>Ba</th>\n",
       "      <td>0.000577</td>\n",
       "      <td>0.001709</td>\n",
       "      <td>0.010734</td>\n",
       "      <td>0.069534</td>\n",
       "      <td>0.741154</td>\n",
       "      <td>0.134524</td>\n",
       "      <td>0.009307</td>\n",
       "      <td>0.032462</td>\n",
       "    </tr>\n",
       "    <tr>\n",
       "      <th>B</th>\n",
       "      <td>0.000201</td>\n",
       "      <td>0.000805</td>\n",
       "      <td>0.003432</td>\n",
       "      <td>0.011711</td>\n",
       "      <td>0.100574</td>\n",
       "      <td>0.712770</td>\n",
       "      <td>0.041253</td>\n",
       "      <td>0.129254</td>\n",
       "    </tr>\n",
       "    <tr>\n",
       "      <th>C</th>\n",
       "      <td>0.000032</td>\n",
       "      <td>0.000120</td>\n",
       "      <td>0.001178</td>\n",
       "      <td>0.016439</td>\n",
       "      <td>0.045883</td>\n",
       "      <td>0.082695</td>\n",
       "      <td>0.430315</td>\n",
       "      <td>0.423339</td>\n",
       "    </tr>\n",
       "    <tr>\n",
       "      <th>D</th>\n",
       "      <td>0.000000</td>\n",
       "      <td>0.000000</td>\n",
       "      <td>0.000000</td>\n",
       "      <td>0.000000</td>\n",
       "      <td>0.000000</td>\n",
       "      <td>0.000000</td>\n",
       "      <td>0.000000</td>\n",
       "      <td>1.000000</td>\n",
       "    </tr>\n",
       "  </tbody>\n",
       "</table>\n",
       "</div>"
      ],
      "text/plain": [
       "          Aaa        Aa         A       Baa        Ba         B         C  \\\n",
       "Aaa  0.805997  0.174365  0.018017  0.000815  0.000669  0.000069  0.000003   \n",
       "Aa   0.016510  0.792858  0.173266  0.012207  0.003606  0.000712  0.000025   \n",
       "A    0.001689  0.040497  0.826510  0.107599  0.017664  0.005062  0.000223   \n",
       "Baa  0.001504  0.007933  0.106655  0.736534  0.112140  0.027328  0.002324   \n",
       "Ba   0.000577  0.001709  0.010734  0.069534  0.741154  0.134524  0.009307   \n",
       "B    0.000201  0.000805  0.003432  0.011711  0.100574  0.712770  0.041253   \n",
       "C    0.000032  0.000120  0.001178  0.016439  0.045883  0.082695  0.430315   \n",
       "D    0.000000  0.000000  0.000000  0.000000  0.000000  0.000000  0.000000   \n",
       "\n",
       "            D  \n",
       "Aaa  0.000066  \n",
       "Aa   0.000816  \n",
       "A    0.000756  \n",
       "Baa  0.005581  \n",
       "Ba   0.032462  \n",
       "B    0.129254  \n",
       "C    0.423339  \n",
       "D    1.000000  "
      ]
     },
     "execution_count": 434,
     "metadata": {},
     "output_type": "execute_result"
    }
   ],
   "source": [
    "qom2 = solveQOM(mtmat, 1/2)\n",
    "to_df(qom2**4)"
   ]
  },
  {
   "cell_type": "code",
   "execution_count": 435,
   "metadata": {
    "collapsed": false
   },
   "outputs": [
    {
     "data": {
      "text/html": [
       "<div>\n",
       "<table border=\"1\" class=\"dataframe\">\n",
       "  <thead>\n",
       "    <tr style=\"text-align: right;\">\n",
       "      <th></th>\n",
       "      <th>Aaa</th>\n",
       "      <th>Aa</th>\n",
       "      <th>A</th>\n",
       "      <th>Baa</th>\n",
       "      <th>Ba</th>\n",
       "      <th>B</th>\n",
       "      <th>C</th>\n",
       "      <th>D</th>\n",
       "    </tr>\n",
       "  </thead>\n",
       "  <tbody>\n",
       "    <tr>\n",
       "      <th>Aaa</th>\n",
       "      <td>0.805975</td>\n",
       "      <td>0.174340</td>\n",
       "      <td>0.017997</td>\n",
       "      <td>0.000867</td>\n",
       "      <td>0.000656</td>\n",
       "      <td>0.000078</td>\n",
       "      <td>0.000004</td>\n",
       "      <td>0.000083</td>\n",
       "    </tr>\n",
       "    <tr>\n",
       "      <th>Aa</th>\n",
       "      <td>0.016508</td>\n",
       "      <td>0.792856</td>\n",
       "      <td>0.173264</td>\n",
       "      <td>0.012207</td>\n",
       "      <td>0.003605</td>\n",
       "      <td>0.000712</td>\n",
       "      <td>0.000032</td>\n",
       "      <td>0.000817</td>\n",
       "    </tr>\n",
       "    <tr>\n",
       "      <th>A</th>\n",
       "      <td>0.001680</td>\n",
       "      <td>0.040487</td>\n",
       "      <td>0.826499</td>\n",
       "      <td>0.107590</td>\n",
       "      <td>0.017656</td>\n",
       "      <td>0.005057</td>\n",
       "      <td>0.000266</td>\n",
       "      <td>0.000765</td>\n",
       "    </tr>\n",
       "    <tr>\n",
       "      <th>Baa</th>\n",
       "      <td>0.001503</td>\n",
       "      <td>0.007932</td>\n",
       "      <td>0.106655</td>\n",
       "      <td>0.736533</td>\n",
       "      <td>0.112140</td>\n",
       "      <td>0.027328</td>\n",
       "      <td>0.002328</td>\n",
       "      <td>0.005581</td>\n",
       "    </tr>\n",
       "    <tr>\n",
       "      <th>Ba</th>\n",
       "      <td>0.000577</td>\n",
       "      <td>0.001709</td>\n",
       "      <td>0.010736</td>\n",
       "      <td>0.069533</td>\n",
       "      <td>0.741153</td>\n",
       "      <td>0.134524</td>\n",
       "      <td>0.009307</td>\n",
       "      <td>0.032461</td>\n",
       "    </tr>\n",
       "    <tr>\n",
       "      <th>B</th>\n",
       "      <td>0.000201</td>\n",
       "      <td>0.000806</td>\n",
       "      <td>0.003445</td>\n",
       "      <td>0.011708</td>\n",
       "      <td>0.100571</td>\n",
       "      <td>0.712767</td>\n",
       "      <td>0.041251</td>\n",
       "      <td>0.129250</td>\n",
       "    </tr>\n",
       "    <tr>\n",
       "      <th>C</th>\n",
       "      <td>0.000039</td>\n",
       "      <td>0.000151</td>\n",
       "      <td>0.001446</td>\n",
       "      <td>0.016403</td>\n",
       "      <td>0.045818</td>\n",
       "      <td>0.082629</td>\n",
       "      <td>0.430273</td>\n",
       "      <td>0.423242</td>\n",
       "    </tr>\n",
       "    <tr>\n",
       "      <th>D</th>\n",
       "      <td>0.000000</td>\n",
       "      <td>0.000000</td>\n",
       "      <td>0.000000</td>\n",
       "      <td>0.000000</td>\n",
       "      <td>0.000000</td>\n",
       "      <td>0.000000</td>\n",
       "      <td>0.000000</td>\n",
       "      <td>1.000000</td>\n",
       "    </tr>\n",
       "  </tbody>\n",
       "</table>\n",
       "</div>"
      ],
      "text/plain": [
       "          Aaa        Aa         A       Baa        Ba         B         C  \\\n",
       "Aaa  0.805975  0.174340  0.017997  0.000867  0.000656  0.000078  0.000004   \n",
       "Aa   0.016508  0.792856  0.173264  0.012207  0.003605  0.000712  0.000032   \n",
       "A    0.001680  0.040487  0.826499  0.107590  0.017656  0.005057  0.000266   \n",
       "Baa  0.001503  0.007932  0.106655  0.736533  0.112140  0.027328  0.002328   \n",
       "Ba   0.000577  0.001709  0.010736  0.069533  0.741153  0.134524  0.009307   \n",
       "B    0.000201  0.000806  0.003445  0.011708  0.100571  0.712767  0.041251   \n",
       "C    0.000039  0.000151  0.001446  0.016403  0.045818  0.082629  0.430273   \n",
       "D    0.000000  0.000000  0.000000  0.000000  0.000000  0.000000  0.000000   \n",
       "\n",
       "            D  \n",
       "Aaa  0.000083  \n",
       "Aa   0.000817  \n",
       "A    0.000765  \n",
       "Baa  0.005581  \n",
       "Ba   0.032461  \n",
       "B    0.129250  \n",
       "C    0.423242  \n",
       "D    1.000000  "
      ]
     },
     "execution_count": 435,
     "metadata": {},
     "output_type": "execute_result"
    }
   ],
   "source": [
    "to_df(qom**20)"
   ]
  },
  {
   "cell_type": "code",
   "execution_count": 27,
   "metadata": {
    "collapsed": false
   },
   "outputs": [],
   "source": [
    "p = 0.6\n",
    "q = 0.7\n",
    "A=np.matrix([[p, 1-p],[1-q,q]])\n",
    "d,v=linalg.eig(A)"
   ]
  },
  {
   "cell_type": "code",
   "execution_count": 28,
   "metadata": {
    "collapsed": false
   },
   "outputs": [
    {
     "data": {
      "text/plain": [
       "(array([0.3+0.j, 1. +0.j]), array([[-0.8       , -0.70710678],\n",
       "        [ 0.6       , -0.70710678]]))"
      ]
     },
     "execution_count": 28,
     "metadata": {},
     "output_type": "execute_result"
    }
   ],
   "source": [
    "d,v"
   ]
  },
  {
   "cell_type": "code",
   "execution_count": 29,
   "metadata": {
    "collapsed": false
   },
   "outputs": [
    {
     "data": {
      "text/plain": [
       "matrix([[0.6+0.j, 0.4+0.j],\n",
       "        [0.3+0.j, 0.7+0.j]])"
      ]
     },
     "execution_count": 29,
     "metadata": {},
     "output_type": "execute_result"
    }
   ],
   "source": [
    "np.matrix([[],[]])*np.matrix(np.diag(d))*(np.matrix(v)**-1)"
   ]
  },
  {
   "cell_type": "code",
   "execution_count": 15,
   "metadata": {
    "collapsed": false
   },
   "outputs": [
    {
     "data": {
      "text/plain": [
       "array([[ 0.70710678, -0.70710678],\n",
       "       [-0.70710678,  0.70710678]])"
      ]
     },
     "execution_count": 15,
     "metadata": {},
     "output_type": "execute_result"
    }
   ],
   "source": [
    "v"
   ]
  },
  {
   "cell_type": "code",
   "execution_count": 17,
   "metadata": {
    "collapsed": false
   },
   "outputs": [
    {
     "data": {
      "text/plain": [
       "matrix([[4.50359963e+15, 4.50359963e+15],\n",
       "        [4.50359963e+15, 4.50359963e+15]])"
      ]
     },
     "execution_count": 17,
     "metadata": {},
     "output_type": "execute_result"
    }
   ],
   "source": [
    "np.matrix(v)**-1"
   ]
  },
  {
   "cell_type": "code",
   "execution_count": 20,
   "metadata": {
    "collapsed": false
   },
   "outputs": [
    {
     "data": {
      "text/plain": [
       "matrix([[ 0.70710678, -0.70710678],\n",
       "        [-0.70710678,  0.70710678]])"
      ]
     },
     "execution_count": 20,
     "metadata": {},
     "output_type": "execute_result"
    }
   ],
   "source": [
    "V=np.matrix([[1,-1],[-1,1]])/np.sqrt(2)\n",
    "V"
   ]
  },
  {
   "cell_type": "code",
   "execution_count": 38,
   "metadata": {
    "collapsed": false
   },
   "outputs": [
    {
     "data": {
      "text/plain": [
       "43200"
      ]
     },
     "execution_count": 38,
     "metadata": {},
     "output_type": "execute_result"
    }
   ],
   "source": [
    "18*2400"
   ]
  },
  {
   "cell_type": "code",
   "execution_count": 39,
   "metadata": {
    "collapsed": false
   },
   "outputs": [
    {
     "data": {
      "text/plain": [
       "48000"
      ]
     },
     "execution_count": 39,
     "metadata": {},
     "output_type": "execute_result"
    }
   ],
   "source": [
    "71000-5000-18000"
   ]
  },
  {
   "cell_type": "code",
   "execution_count": 40,
   "metadata": {
    "collapsed": false
   },
   "outputs": [
    {
     "data": {
      "text/plain": [
       "0.02857142857142847"
      ]
     },
     "execution_count": 40,
     "metadata": {},
     "output_type": "execute_result"
    }
   ],
   "source": [
    "43200/42000-1"
   ]
  },
  {
   "cell_type": "code",
   "execution_count": null,
   "metadata": {
    "collapsed": true
   },
   "outputs": [],
   "source": []
  }
 ],
 "metadata": {
  "anaconda-cloud": {},
  "kernelspec": {
   "display_name": "Python [default]",
   "language": "python",
   "name": "python3"
  },
  "language_info": {
   "codemirror_mode": {
    "name": "ipython",
    "version": 3
   },
   "file_extension": ".py",
   "mimetype": "text/x-python",
   "name": "python",
   "nbconvert_exporter": "python",
   "pygments_lexer": "ipython3",
   "version": "3.5.2"
  }
 },
 "nbformat": 4,
 "nbformat_minor": 1
}
